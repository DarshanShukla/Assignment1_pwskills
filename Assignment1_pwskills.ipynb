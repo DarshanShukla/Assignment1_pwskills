{
 "cells": [
  {
   "cell_type": "code",
   "execution_count": 1,
   "id": "3c8bdbec-f049-4cbe-b283-5cf129ee855b",
   "metadata": {},
   "outputs": [],
   "source": [
    "import logging\n"
   ]
  },
  {
   "cell_type": "code",
   "execution_count": 2,
   "id": "b2a36562-0022-4e3d-88a5-ef32a76215e6",
   "metadata": {},
   "outputs": [
    {
     "name": "stdout",
     "output_type": "stream",
     "text": [
      "0\n",
      "1\n",
      "5\n",
      "File closed\n"
     ]
    }
   ],
   "source": [
    "\"\"\"Answer 1\"\"\"\n",
    "# a. when to use for loop\n",
    "\"\"\"\n",
    "Answer - A for loop is used for iterating over a sequence (that is either a list, a tuple, a dictionary, a set, or a string).\n",
    "        This is less like the for keyword in other programming languages, and works more like an iterator method as found in other object-orientated programming languages.\n",
    "\"\"\"\n",
    "logging.basicConfig(filename = 'test1.log', level = logging.DEBUG, format = '%(asctime)s %(levelname)s %(message)s')\n",
    "logging.info(\"Example of for loop\")\n",
    "try:\n",
    "    numbers = [0,1,5]\n",
    "    for i in numbers:\n",
    "        print(i)\n",
    "except Exception as e:\n",
    "    logging.info(\"This is my error block\")\n",
    "    print(e) \n",
    "finally:\n",
    "    logging.info(\"This is my finally block\")\n",
    "    print(\"File closed\")\n",
    "\n",
    "    "
   ]
  },
  {
   "cell_type": "code",
   "execution_count": 5,
   "id": "bfb9c2f9-7071-4a71-aa10-7f29cc71dba0",
   "metadata": {},
   "outputs": [
    {
     "name": "stdin",
     "output_type": "stream",
     "text": [
      "Enter a number:-  55\n",
      "Enter a number:  44\n",
      "Enter a number:  11\n",
      "Enter a number:  0\n"
     ]
    },
    {
     "name": "stdout",
     "output_type": "stream",
     "text": [
      "total= 110\n",
      "File closed\n"
     ]
    }
   ],
   "source": [
    "\"\"\"Answer 1(b)\"\"\"\n",
    "# When we use while loop\n",
    "\n",
    "\"\"\"\n",
    "Answer - A \"While\" Loop is used to repeat a specific block of code an unknown number of times, until a condition is met.\n",
    "\"\"\"\n",
    "\n",
    "logging.basicConfig(filename = 'test1.log', level = logging.DEBUG, format = '%(asctime)s %(levelname)s %(message)s' )\n",
    "logging.info(\"Example of while loop\")\n",
    "try:\n",
    "    logging.info(\"Program to calculate the sum of numbers until the user enter zero\")\n",
    "    total = 0\n",
    "    \n",
    "    number = int(input(\"Enter a number:- \"))\n",
    "    \n",
    "    # add number until number is zero\n",
    "    while number != 0:\n",
    "        total += number\n",
    "        \n",
    "        # take integer input again\n",
    "        number = int(input('Enter a number: '))\n",
    "    print(\"total=\", total)\n",
    "except Exception as e:\n",
    "    logging.info(\"This is my exception block\")\n",
    "    print(e)\n",
    "finally:\n",
    "    logging.info(\"This is my finally block\")\n",
    "    print(\"File closed\")\n",
    "    "
   ]
  },
  {
   "cell_type": "code",
   "execution_count": 6,
   "id": "e1bdbb2e-50b2-40f6-b2e0-8d681ef4ab16",
   "metadata": {},
   "outputs": [
    {
     "name": "stdout",
     "output_type": "stream",
     "text": [
      "Sum of first 10 natural numbers is:  55\n",
      "Sum of first 10 natural numbers is:  55\n",
      "Product of first 10 natural numbers is:  3628800\n",
      "Product of first 10 natural numbers is:  3628800\n",
      "File closed\n"
     ]
    }
   ],
   "source": [
    "\"\"\"Answer 2\"\"\"\n",
    "\n",
    "logging.basicConfig(filename='test2.log', level=logging.DEBUG, format='%(asctime)s %(levelname)s %(message)s')\n",
    "\n",
    "# Sum of first 10 natural numbers using a for loop\n",
    "logging.info(\"Sum of first 10 natural numbers using a for loop\")\n",
    "try:\n",
    "    total_sum = 0\n",
    "    for i in range(1, 11):\n",
    "        total_sum += i\n",
    "    print(\"Sum of first 10 natural numbers is: \", total_sum)\n",
    "except Exception as e:\n",
    "    logging.info(\"Exception occurred\")\n",
    "    print(e)\n",
    "\n",
    "# Sum of first 10 natural numbers using a while loop\n",
    "logging.info(\"Sum of first 10 natural numbers using a while loop\")\n",
    "try:\n",
    "    i = 1\n",
    "    total_sum = 0\n",
    "    while i <= 10:\n",
    "        total_sum += i\n",
    "        i += 1\n",
    "    print(\"Sum of first 10 natural numbers is: \", total_sum)\n",
    "except Exception as e:\n",
    "    logging.info(\"Exception occurred\")\n",
    "    print(e)\n",
    "\n",
    "# Product of first 10 natural numbers using a for loop\n",
    "logging.info(\"Product of first 10 natural numbers using a for loop\")\n",
    "try:\n",
    "    product = 1\n",
    "    for i in range(1, 11):\n",
    "        product *= i\n",
    "    print(\"Product of first 10 natural numbers is: \", product)\n",
    "except Exception as e:\n",
    "    logging.info(\"Exception occurred\")\n",
    "    print(e)\n",
    "\n",
    "# Product of first 10 natural numbers using a while loop\n",
    "logging.info(\"Product of first 10 natural numbers using a while loop\")\n",
    "try:\n",
    "    i = 1\n",
    "    product = 1\n",
    "    while i <= 10:\n",
    "        product *= i\n",
    "        i += 1\n",
    "    print(\"Product of first 10 natural numbers is: \", product)\n",
    "except Exception as e:\n",
    "    logging.info(\"Exception occurred\")\n",
    "    print(e)\n",
    "\n",
    "logging.info(\"File closed\")\n",
    "print(\"File closed\")"
   ]
  },
  {
   "cell_type": "code",
   "execution_count": 9,
   "id": "7692bbc7-5e0d-486b-8f00-3a68918513bf",
   "metadata": {},
   "outputs": [
    {
     "name": "stdin",
     "output_type": "stream",
     "text": [
      "Enter the number of units of electricity consumed:  310\n"
     ]
    },
    {
     "name": "stdout",
     "output_type": "stream",
     "text": [
      "Total electricity bill 2250.0\n",
      "File closed\n"
     ]
    }
   ],
   "source": [
    "\"\"\"Answer 3\"\"\" \n",
    "\n",
    "logging.basicConfig(filename = 'test3.log', level = logging.DEBUG, format = '%(asctime)s, %(levelname)s, %(message)s')\n",
    "\n",
    "# Electricity bill of an household\n",
    "logging.info(\"Electricity bill of an household\")\n",
    "units = int(input(\"Enter the number of units of electricity consumed: \"))\n",
    "\n",
    "try:\n",
    "    if units <= 100:\n",
    "        bill = units * 4.5\n",
    "    elif units <= 200:\n",
    "        bill = 100*4.5 + (units- 100) * 6\n",
    "    elif units <= 300:\n",
    "        bill = 100*4.5 + 100*6 + (units- 200)*10\n",
    "    else:\n",
    "        bill = 100*4.5 + 100*6 + 100*10 + (units - 300)*20\n",
    "\n",
    "    print(\"Total electricity bill\", bill)\n",
    "except Exception as e:\n",
    "    logging.info(\"Exception occurred\")\n",
    "    print(e)\n",
    "\n",
    "logging.info(\"File closed\")\n",
    "print(\"File closed\")\n"
   ]
  },
  {
   "cell_type": "code",
   "execution_count": 11,
   "id": "81edcfdd-3b75-4805-9d98-43436427ca3a",
   "metadata": {},
   "outputs": [
    {
     "name": "stdout",
     "output_type": "stream",
     "text": [
      "[2, 4, 5, 6, 8, 10, 12, 14, 15, 16, 18, 20, 22, 24, 25, 26, 28, 30, 32, 34, 35, 36, 38, 40, 42, 44, 45, 46, 48, 50, 52, 54, 55, 56, 58, 60, 62, 64, 65, 66, 68, 70, 72, 74, 75, 76, 78, 80, 82, 84, 85, 86, 88, 90, 92, 94, 95, 96, 98, 100]\n",
      "File closed\n"
     ]
    }
   ],
   "source": [
    "\"\"\"Answer 4\"\"\"\n",
    "\n",
    "logging.basicConfig(filename = 'test4.log', level = logging.DEBUG, format = '%(asctime)s, %(levelname)s, %(message)s')\n",
    "logging.info(\"Cubes from 1 to 100, which are divisible by 4 or 5\")\n",
    "# Creating an empty list\n",
    "l1 = []\n",
    "# Calculating cube of numbers between 1 to 100\n",
    "try:\n",
    "    for num in range(1, 101):\n",
    "        cube = num**3\n",
    "        # Checking the cube is divisible by 4 or 5 \n",
    "        if cube %4 == 0 or cube %5 == 0:\n",
    "            # Appending the numbers to the list if the condition is true\n",
    "            l1.append(num)\n",
    "    print(l1)\n",
    "except Exception as e:\n",
    "    logging.info(\"Exception occurred\")\n",
    "    print(e)\n",
    "logging.info(\"File closed\")\n",
    "print(\"File closed\")"
   ]
  },
  {
   "cell_type": "code",
   "execution_count": 15,
   "id": "337a185a-6475-4f25-968b-b1d2e69c60c8",
   "metadata": {},
   "outputs": [
    {
     "name": "stdout",
     "output_type": "stream",
     "text": [
      "Number of vowels: 12\n",
      "File Closed\n"
     ]
    }
   ],
   "source": [
    "\"\"\"Answer 5\"\"\"\n",
    "\n",
    "logging.basicConfig(filename = 'test4.log', level = logging.DEBUG, format = '%(asctime)s, %(levelname)s, %(message)s')\n",
    "logging.info(\"count vowels from a string\")\n",
    "\n",
    "try:\n",
    "    # creating a function to count vowels\n",
    "    def count_vowels(string):\n",
    "        vowels = \"aeiouAEIOU\"\n",
    "        vowel_count = 0\n",
    "        \n",
    "        #checking and counting vowels\n",
    "        for i in string:\n",
    "            if i in vowels:\n",
    "                vowel_count += 1\n",
    "                \n",
    "        return vowel_count\n",
    "    \n",
    "    string = \"I want to become a data scientist\"\n",
    "    vowel_count = count_vowels(string)\n",
    "    print(\"Number of vowels:\", vowel_count)\n",
    "except Exception as e:\n",
    "    logging.info(\"Exception occurred\")\n",
    "    print(e)\n",
    "logging.info(\"file closed\")\n",
    "print(\"File Closed\")\n",
    "    "
   ]
  }
 ],
 "metadata": {
  "kernelspec": {
   "display_name": "Python 3 (ipykernel)",
   "language": "python",
   "name": "python3"
  },
  "language_info": {
   "codemirror_mode": {
    "name": "ipython",
    "version": 3
   },
   "file_extension": ".py",
   "mimetype": "text/x-python",
   "name": "python",
   "nbconvert_exporter": "python",
   "pygments_lexer": "ipython3",
   "version": "3.10.8"
  }
 },
 "nbformat": 4,
 "nbformat_minor": 5
}
